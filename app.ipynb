{
  "cells": [
    {
      "cell_type": "code",
      "execution_count": null,
      "metadata": {
        "colab": {
          "base_uri": "https://localhost:8080/"
        },
        "id": "NRdvr7L-Yo58",
        "outputId": "7c51df01-9250-4754-836e-7d2e775e95db"
      },
      "outputs": [
        {
          "name": "stdout",
          "output_type": "stream",
          "text": [
            "Mounted at /content/drive\n"
          ]
        }
      ],
      "source": [
        "from google.colab import drive\n",
        "drive.mount('/content/drive')"
      ]
    },
    {
      "cell_type": "code",
      "execution_count": null,
      "metadata": {
        "colab": {
          "base_uri": "https://localhost:8080/"
        },
        "id": "cN1ObbAWZEYj",
        "outputId": "9f2ade26-338a-4f9f-acbd-a94034b7b607"
      },
      "outputs": [
        {
          "name": "stdout",
          "output_type": "stream",
          "text": [
            "\u001b[?25l     \u001b[90m━━━━━━━━━━━━━━━━━━━━━━━━━━━━━━━━━━━━━━━━\u001b[0m \u001b[32m0.0/400.1 kB\u001b[0m \u001b[31m?\u001b[0m eta \u001b[36m-:--:--\u001b[0m\r\u001b[2K     \u001b[91m━━━━━━━━━━━━━━━\u001b[0m\u001b[90m╺\u001b[0m\u001b[90m━━━━━━━━━━━━━━━━━━━━━━━━\u001b[0m \u001b[32m153.6/400.1 kB\u001b[0m \u001b[31m4.8 MB/s\u001b[0m eta \u001b[36m0:00:01\u001b[0m\r\u001b[2K     \u001b[90m━━━━━━━━━━━━━━━━━━━━━━━━━━━━━━━━━━━━━━━━\u001b[0m \u001b[32m400.1/400.1 kB\u001b[0m \u001b[31m6.4 MB/s\u001b[0m eta \u001b[36m0:00:00\u001b[0m\n",
            "\u001b[?25h  Installing build dependencies ... \u001b[?25l\u001b[?25hdone\n",
            "  Getting requirements to build wheel ... \u001b[?25l\u001b[?25hdone\n",
            "  Preparing metadata (pyproject.toml) ... \u001b[?25l\u001b[?25hdone\n",
            "\u001b[2K   \u001b[90m━━━━━━━━━━━━━━━━━━━━━━━━━━━━━━━━━━━━━━━━\u001b[0m \u001b[32m69.4/69.4 kB\u001b[0m \u001b[31m4.1 MB/s\u001b[0m eta \u001b[36m0:00:00\u001b[0m\n",
            "\u001b[2K   \u001b[90m━━━━━━━━━━━━━━━━━━━━━━━━━━━━━━━━━━━━━━━━\u001b[0m \u001b[32m43.6/43.6 MB\u001b[0m \u001b[31m19.4 MB/s\u001b[0m eta \u001b[36m0:00:00\u001b[0m\n",
            "\u001b[?25h  Building wheel for ibm-watson (pyproject.toml) ... \u001b[?25l\u001b[?25hdone\n"
          ]
        }
      ],
      "source": [
        "!pip install -q Flask ibm-watson ibm-db"
      ]
    },
    {
      "cell_type": "code",
      "execution_count": null,
      "metadata": {
        "colab": {
          "base_uri": "https://localhost:8080/"
        },
        "id": "DkyZPxHmI-_g",
        "outputId": "b7e762db-eef5-47cf-8e21-6a915834df50"
      },
      "outputs": [
        {
          "name": "stdout",
          "output_type": "stream",
          "text": [
            "/content/drive/MyDrive/templates\n"
          ]
        }
      ],
      "source": [
        "%cd /content/drive/MyDrive/templates"
      ]
    },
    {
      "cell_type": "code",
      "execution_count": null,
      "metadata": {
        "colab": {
          "base_uri": "https://localhost:8080/",
          "height": 52
        },
        "id": "SyY7YCKK6d13",
        "outputId": "0d7dfdba-41b0-48c0-e3ff-df43da57d5fa"
      },
      "outputs": [
        {
          "name": "stdout",
          "output_type": "stream",
          "text": [
            "https://uy0g1rpjixp-496ff2e9c6d22116-8000-colab.googleusercontent.com/\n",
            "https://uy0g1rpjixp-496ff2e9c6d22116-8000-colab.googleusercontent.com/\n"
          ]
        }
      ],
      "source": [
        "from google.colab.output import eval_js\n",
        "print(eval_js(\"google.colab.kernel.proxyPort(8000)\"))"
      ]
    },
    {
      "cell_type": "markdown",
      "metadata": {
        "id": "8jHptcO-IzsW"
      },
      "source": [
        "# Database"
      ]
    },
    {
      "cell_type": "code",
      "execution_count": null,
      "metadata": {
        "colab": {
          "background_save": true,
          "base_uri": "https://localhost:8080/"
        },
        "id": "SF2iAbVyTnsX",
        "outputId": "c3b96b93-f6c1-4869-9e1c-e802bc6ff90f"
      },
      "outputs": [
        {
          "name": "stdout",
          "output_type": "stream",
          "text": [
            " * Serving Flask app '__main__'\n",
            " * Debug mode: off\n"
          ]
        },
        {
          "name": "stderr",
          "output_type": "stream",
          "text": [
            "INFO:werkzeug:\u001b[31m\u001b[1mWARNING: This is a development server. Do not use it in a production deployment. Use a production WSGI server instead.\u001b[0m\n",
            " * Running on http://127.0.0.1:8000\n",
            "INFO:werkzeug:\u001b[33mPress CTRL+C to quit\u001b[0m\n",
            "INFO:werkzeug:127.0.0.1 - - [24/Oct/2024 01:55:15] \"GET /?authuser=0 HTTP/1.1\" 200 -\n",
            "INFO:werkzeug:127.0.0.1 - - [24/Oct/2024 01:55:16] \"\u001b[33mGET /image.png?authuser=0 HTTP/1.1\u001b[0m\" 404 -\n",
            "INFO:werkzeug:127.0.0.1 - - [24/Oct/2024 01:55:16] \"\u001b[33mGET /favicon.ico?authuser=0 HTTP/1.1\u001b[0m\" 404 -\n",
            "INFO:werkzeug:127.0.0.1 - - [24/Oct/2024 01:55:17] \"GET /update?authuser=0 HTTP/1.1\" 200 -\n",
            "INFO:werkzeug:127.0.0.1 - - [24/Oct/2024 01:55:29] \"POST /submit?authuser=0 HTTP/1.1\" 200 -\n"
          ]
        },
        {
          "name": "stdout",
          "output_type": "stream",
          "text": [
            "2004-11-11\n"
          ]
        },
        {
          "name": "stderr",
          "output_type": "stream",
          "text": [
            "INFO:werkzeug:127.0.0.1 - - [24/Oct/2024 01:55:31] \"GET /?authuser=0 HTTP/1.1\" 200 -\n",
            "INFO:werkzeug:127.0.0.1 - - [24/Oct/2024 01:55:32] \"\u001b[33mGET /image.png?authuser=0 HTTP/1.1\u001b[0m\" 404 -\n",
            "INFO:werkzeug:127.0.0.1 - - [24/Oct/2024 01:55:32] \"\u001b[33mGET /favicon.ico?authuser=0 HTTP/1.1\u001b[0m\" 404 -\n",
            "INFO:werkzeug:127.0.0.1 - - [24/Oct/2024 01:55:33] \"GET /update?authuser=0 HTTP/1.1\" 200 -\n"
          ]
        }
      ],
      "source": [
        "if __name__ == '__main__':\n",
        "    app.run(port = 8000)\n"
      ]
    },
    {
      "cell_type": "code",
      "execution_count": null,
      "metadata": {
        "id": "HScPlG9WKLNS"
      },
      "outputs": [],
      "source": [
        "from flask import Flask, render_template, request, jsonify, Response\n",
        "import ibm_db\n",
        "import pandas as pd\n",
        "from datetime import date\n",
        "import os\n",
        "\n",
        "# Set your IBM Db2 credentials in the environment variables or manually assign them in the code below.\n",
        "dsn_hostname = os.getenv('DB_HOST', r'815fa4db-dc03-4c70-869a-a9cc13f33084.bs2io90l08kqb1od8lcg.databases.appdomain.cloud') # change this\n",
        "dsn_uid = os.getenv('DB_UID', 'bxw40273')  # change this\n",
        "dsn_pwd = os.getenv('DB_PWD', 'OIHuQ19w0Q7j2iBI')  # change this\n",
        "dsn_port = os.getenv('DB_PORT', '30367')  # change this\n",
        "dsn_database = \"bludb\"  # change if necessary\n",
        "dsn_driver = \"{IBM DB2 ODBC DRIVER}\"\n",
        "dsn_protocol = \"TCPIP\"\n",
        "dsn_security = \"SSL\"\n",
        "\n",
        "# Create the dsn connection string\n",
        "conn_str = (\n",
        "    \"DRIVER={0};\"\n",
        "    \"DATABASE={1};\"\n",
        "    \"HOSTNAME={2};\"\n",
        "    \"PORT={3};\"\n",
        "    \"PROTOCOL={4};\"\n",
        "    \"UID={5};\"\n",
        "    \"PWD={6};\"\n",
        "    \"SECURITY={7};\").format(dsn_driver, dsn_database, dsn_hostname, dsn_port, dsn_protocol, dsn_uid, dsn_pwd, dsn_security)\n"
      ]
    },
    {
      "cell_type": "code",
      "execution_count": null,
      "metadata": {
        "id": "nXtnc4r6N1mn"
      },
      "outputs": [],
      "source": [
        "app = Flask(__name__, template_folder = \"/content/drive/MyDrive/templates\")\n",
        "\n",
        "@app.route('/')\n",
        "def index():\n",
        "    return render_template(\"index.html\")\n"
      ]
    },
    {
      "cell_type": "code",
      "execution_count": null,
      "metadata": {
        "id": "Dqtdh2zGN3dl"
      },
      "outputs": [],
      "source": [
        "@app.route('/submit', methods=['POST'])\n",
        "def submit():\n",
        "    try:\n",
        "      name = request.form['name']\n",
        "      birthday = request.form['birthday']\n",
        "      user_id = request.form['id']\n",
        "      major = request.form[\"major\"]\n",
        "\n",
        "      # Connect to the database\n",
        "      conn = ibm_db.connect(conn_str, '', '')\n",
        "\n",
        "      # Insert data into the database\n",
        "      sql = \"INSERT INTO STUDENTS VALUES (?, ?, ?, ?)\"\n",
        "      stmt = ibm_db.prepare(conn, sql)\n",
        "      ibm_db.bind_param(stmt, 1, name)\n",
        "      ibm_db.bind_param(stmt, 2, birthday)\n",
        "      ibm_db.bind_param(stmt, 3, user_id)\n",
        "      ibm_db.bind_param(stmt, 4, major)\n",
        "      ibm_db.execute(stmt)\n",
        "\n",
        "      print(birthday)\n",
        "      # Close the connection\n",
        "      ibm_db.close(conn)\n",
        "\n",
        "    except Exception as err:\n",
        "      print(f\"Unexpected {err=}, {type(err)=}\")\n",
        "\n",
        "    return index()\n",
        "\n"
      ]
    },
    {
      "cell_type": "code",
      "execution_count": null,
      "metadata": {
        "id": "UHlAcYdEN5-y"
      },
      "outputs": [],
      "source": [
        "@app.route('/delete', methods=['POST'])\n",
        "def delete():\n",
        "  try:\n",
        "      user_id = request.form['id']\n",
        "\n",
        "      # Connect to the database\n",
        "      conn = ibm_db.connect(conn_str, '', '')\n",
        "\n",
        "      # Delete data from the database\n",
        "      sql = \"DELETE FROM STUDENTS WHERE \\\"MA_SV\\\" = ?\"\n",
        "      stmt = ibm_db.prepare(conn, sql)\n",
        "      ibm_db.bind_param(stmt, 1, user_id)\n",
        "      ibm_db.execute(stmt)\n",
        "\n",
        "      # Close the connection\n",
        "      ibm_db.close(conn)\n",
        "\n",
        "  except Exception as err:\n",
        "      print(f\"Unexpected {err=}, {type(err)=}\")\n",
        "  return index()\n",
        "\n"
      ]
    },
    {
      "cell_type": "code",
      "execution_count": null,
      "metadata": {
        "id": "tOtMK0yjN7Zy"
      },
      "outputs": [],
      "source": [
        "@app.route('/update')\n",
        "def update():\n",
        "    conn = ibm_db.connect(conn_str, \"\", \"\")\n",
        "\n",
        "    # Query to get the first 5 rows from the table\n",
        "    command = \"SELECT * FROM STUDENTS ORDER BY \\\"MA_SV\\\" DESC\"\n",
        "    stmt = ibm_db.exec_immediate(conn, command)\n",
        "\n",
        "    # Fetch the result set\n",
        "    result = ibm_db.fetch_both(stmt)\n",
        "    rows = []\n",
        "\n",
        "    # Loop through the result and fetch the rows\n",
        "    while result:\n",
        "        rows.append({k:v for (k,v) in result.items() if not isinstance(k, int)})\n",
        "        result = ibm_db.fetch_both(stmt)\n",
        "\n",
        "    # Convert result to a pandas DataFrame for better readability\n",
        "    return pd.DataFrame(rows).to_html()"
      ]
    }
  ],
  "metadata": {
    "colab": {
      "provenance": []
    },
    "kernelspec": {
      "display_name": "Python 3",
      "name": "python3"
    },
    "language_info": {
      "name": "python"
    }
  },
  "nbformat": 4,
  "nbformat_minor": 0
}