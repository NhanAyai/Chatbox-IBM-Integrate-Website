{
  "cells": [
    {
      "cell_type": "markdown",
      "metadata": {},
      "source": [
        "## Step 1: Install necessary libraries."
      ]
    },
    {
      "cell_type": "code",
      "execution_count": null,
      "metadata": {},
      "outputs": [],
      "source": [
        "!pip install -q Flask ibm-watson ibm-db"
      ]
    },
    {
      "cell_type": "markdown",
      "metadata": {},
      "source": [
        "## Step 2: Create valid Port connect to website in Google Colab."
      ]
    },
    {
      "cell_type": "code",
      "execution_count": null,
      "metadata": {},
      "outputs": [],
      "source": [
        "from google.colab.output import eval_js\n",
        "print(eval_js(\"google.colab.kernel.proxyPort(8000)\"))"
      ]
    },
    {
      "cell_type": "markdown",
      "metadata": {
        "id": "8jHptcO-IzsW"
      },
      "source": [
        "# Step 3: Connect to Db2 Database from IBM and query table contains students information."
      ]
    },
    {
      "cell_type": "code",
      "execution_count": null,
      "metadata": {
        "id": "UHlAcYdEN5-y"
      },
      "outputs": [],
      "source": [
        "from flask import Flask, render_template, request, jsonify, Response\n",
        "import ibm_db\n",
        "import pandas as pd\n",
        "from datetime import date\n",
        "import os\n",
        "\n",
        "# Set your IBM Db2 credentials in the environment variables or manually assign them in the code below.\n",
        "dsn_hostname = os.getenv('DB_HOST', 'YOUR DATABASE HOST') \n",
        "dsn_uid = os.getenv('DB_UID', 'YOUR USERNAME')  \n",
        "dsn_pwd = os.getenv('DB_PWD', 'YOUR PASSWORD')  \n",
        "dsn_port = os.getenv('DB_PORT', 'YOUR PORT')  \n",
        "dsn_database = \"bludb\"  # Change if necessary\n",
        "dsn_driver = \"{IBM DB2 ODBC DRIVER}\"\n",
        "dsn_protocol = \"TCPIP\"\n",
        "dsn_security = \"SSL\"\n",
        "\n",
        "# Create the dsn connection string\n",
        "conn_str = (\n",
        "    \"DRIVER={0};\"\n",
        "    \"DATABASE={1};\"\n",
        "    \"HOSTNAME={2};\"\n",
        "    \"PORT={3};\"\n",
        "    \"PROTOCOL={4};\"\n",
        "    \"UID={5};\"\n",
        "    \"PWD={6};\"\n",
        "    \"SECURITY={7};\").format(dsn_driver, dsn_database, dsn_hostname, dsn_port, dsn_protocol, dsn_uid, dsn_pwd, dsn_security)\n",
        "\n",
        "# Connect the template html\n",
        "app = Flask(__name__, template_folder = \"template\")\n",
        "\n",
        "@app.route('/')\n",
        "def index():\n",
        "    return render_template(\"index.html\")\n",
        "\n",
        "@app.route('/submit', methods=['POST'])\n",
        "def submit():\n",
        "    try:\n",
        "      name = request.form['name']\n",
        "      birthday = request.form['birthday']\n",
        "      user_id = request.form['id']\n",
        "      major = request.form[\"major\"]\n",
        "\n",
        "      # Connect to the database\n",
        "      conn = ibm_db.connect(conn_str, '', '')\n",
        "\n",
        "      # Insert data into the database\n",
        "      sql = \"INSERT INTO STUDENTS VALUES (?, ?, ?, ?)\"\n",
        "      stmt = ibm_db.prepare(conn, sql)\n",
        "      ibm_db.bind_param(stmt, 1, name)\n",
        "      ibm_db.bind_param(stmt, 2, birthday)\n",
        "      ibm_db.bind_param(stmt, 3, user_id)\n",
        "      ibm_db.bind_param(stmt, 4, major)\n",
        "      ibm_db.execute(stmt)\n",
        "\n",
        "      print(birthday)\n",
        "      # Close the connection\n",
        "      ibm_db.close(conn)\n",
        "\n",
        "    except Exception as err:\n",
        "      print(f\"Unexpected {err=}, {type(err)=}\")\n",
        "\n",
        "    return index()\n",
        "\n",
        "@app.route('/delete', methods=['POST'])\n",
        "def delete():\n",
        "  try:\n",
        "      user_id = request.form['id']\n",
        "\n",
        "      # Connect to the database\n",
        "      conn = ibm_db.connect(conn_str, '', '')\n",
        "\n",
        "      # Delete data from the database\n",
        "      sql = \"DELETE FROM TABLENAME WHERE \\\"YOUR COLUMN QUERY\\\" = ?\"\n",
        "      stmt = ibm_db.prepare(conn, sql)\n",
        "      ibm_db.bind_param(stmt, 1, user_id)\n",
        "      ibm_db.execute(stmt)\n",
        "\n",
        "      # Close the connection\n",
        "      ibm_db.close(conn)\n",
        "\n",
        "  except Exception as err:\n",
        "      print(f\"Unexpected {err=}, {type(err)=}\")\n",
        "  return index()\n",
        "\n",
        "@app.route('/update')\n",
        "def update():\n",
        "    conn = ibm_db.connect(conn_str, \"\", \"\")\n",
        "\n",
        "    # Query to get the first 5 rows from the table\n",
        "    command = \"SELECT * FROM TABLENAME ORDER BY \\\"YOUR COLUMN QUERY\\\" DESC\"\n",
        "    stmt = ibm_db.exec_immediate(conn, command)\n",
        "\n",
        "    # Fetch the result set\n",
        "    result = ibm_db.fetch_both(stmt)\n",
        "    rows = []\n",
        "\n",
        "    # Loop through the result and fetch the rows\n",
        "    while result:\n",
        "        rows.append({k:v for (k,v) in result.items() if not isinstance(k, int)})\n",
        "        result = ibm_db.fetch_both(stmt)\n",
        "\n",
        "    # Convert result to a pandas DataFrame for better readability\n",
        "    return pd.DataFrame(rows).to_html()"
      ]
    },
    {
      "cell_type": "markdown",
      "metadata": {},
      "source": [
        "# Step 4: Run to create a port and click on the link in the Step 2 to connect the website sever."
      ]
    },
    {
      "cell_type": "code",
      "execution_count": null,
      "metadata": {},
      "outputs": [],
      "source": [
        "if __name__ == '__main__':\n",
        "    app.run(port = 8000)\n"
      ]
    }
  ],
  "metadata": {
    "colab": {
      "provenance": []
    },
    "kernelspec": {
      "display_name": "Python 3",
      "name": "python3"
    },
    "language_info": {
      "name": "python"
    }
  },
  "nbformat": 4,
  "nbformat_minor": 0
}
